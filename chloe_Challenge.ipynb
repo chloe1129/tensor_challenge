{
 "cells": [
  {
   "cell_type": "code",
   "execution_count": 21,
   "metadata": {},
   "outputs": [],
   "source": [
    "class Tensor():\n",
    "    def __init__(self, data, shape):\n",
    "        self.data= data\n",
    "        self.shape=shape\n",
    "\n",
    "        self.shape_len=len(self.shape)\n",
    "        self.data_len = len(self.data)\n",
    "        #empty list\n",
    "        self.tensor=[]\n",
    "\n",
    "\n",
    "    def list_data(self):\n",
    "        \n",
    "        if self.shape_lens == 0:\n",
    "            return self.data\n",
    "        else:\n",
    "            self.tensor=[self.data[i] for i in range(self.shape[-1])]\n",
    "            return Tensor()\n",
    "    \n",
    "        \n",
    "        \n"
   ]
  },
  {
   "cell_type": "code",
   "execution_count": 22,
   "metadata": {},
   "outputs": [
    {
     "name": "stdout",
     "output_type": "stream",
     "text": [
      "<__main__.Tensor object at 0x000002703995E1D0>\n"
     ]
    }
   ],
   "source": [
    "data0 = [0, 1, 2, 3, 4, 5, 0.1, 0.2, -3]\n",
    "shape0 = [2, 3, 2]\n",
    "tensor0 = Tensor(data0, shape0)\n",
    "print(tensor0)"
   ]
  }
 ],
 "metadata": {
  "interpreter": {
   "hash": "4050364ee39a1dfe4c8bf9f2921379d207edd90088413412cbed5277d73e4c75"
  },
  "kernelspec": {
   "display_name": "Python 3.10.3 64-bit",
   "language": "python",
   "name": "python3"
  },
  "language_info": {
   "codemirror_mode": {
    "name": "ipython",
    "version": 3
   },
   "file_extension": ".py",
   "mimetype": "text/x-python",
   "name": "python",
   "nbconvert_exporter": "python",
   "pygments_lexer": "ipython3",
   "version": "3.10.3"
  },
  "orig_nbformat": 4
 },
 "nbformat": 4,
 "nbformat_minor": 2
}
