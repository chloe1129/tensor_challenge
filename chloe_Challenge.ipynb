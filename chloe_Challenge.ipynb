{
 "cells": [
  {
   "cell_type": "code",
   "execution_count": null,
   "metadata": {},
   "outputs": [],
   "source": [
    "# Using Python, construct a class without importing any modules given the following guidelines:\n",
    "# -Given 2 inputs, data and shape, construct a tensor using nested lists.\n",
    "# -A tensor a general term for n-dimension matrix. (order goes scalar, vector, matrix, tensor)\n",
    "# -Data and shape inputs are given as lists of numbers. Data can be any number (int or float), but shape needs to be a list of positive integers.\n",
    "# -Data and shape inputs can be lists of any length.\n",
    "# -The constructed tensor can be saved as an instance variable, printed in standard output, or both.\n",
    "# -If too many data numbers, cut it off after the tensor fills up. If not enough, pad the tensor w/ zeroes.\n",
    "# -Output an empty list if the shape given is also an empty list ([])"
   ]
  },
  {
   "cell_type": "code",
   "execution_count": null,
   "metadata": {},
   "outputs": [],
   "source": [
    "# >>> data0 = [0, 1, 2, 3, 4, 5, 0.1, 0.2, -3]\n",
    "# >>> shape0 = [2, 3, 2]\n",
    "# >>> tensor0 = Tensor(data0, shape0)\n",
    "\n",
    "# output:\n",
    "# [[[0, 1], [2, 3], [4, 5]], [[0.1, 0.2], [-3, 0], [0, 0]]]\n",
    "\n",
    "\n",
    "# >>> data1 = [0, 1, 2, 3, 4, 5, 0.1, 0.2, -3, -2, -1, 3, 2, 1]\n",
    "# >>> shape1 = [5, 2]\n",
    "# >>> tensor1 = Tensor(data1, shape1)\n",
    "\n",
    "# output:\n",
    "# [[0, 1], [2, 3], [4, 5], [0.1, 0.2], [-3, -2]]\n",
    "\n",
    "# shape의 뒤에서부터 개수를 선택해"
   ]
  },
  {
   "cell_type": "code",
   "execution_count": 1,
   "metadata": {},
   "outputs": [],
   "source": [
    "class Tensor():\n",
    "    def __init__(self, data, shape):\n",
    "        self.data= data\n",
    "        self.shape=shape\n",
    "\n",
    "        # 받아온 list 값들의 길이\n",
    "        self.shape_len=len(self.shape)\n",
    "        self.data_len = len(self.data)\n",
    "\n",
    "        #empty list\n",
    "        self.tensor=[]\n",
    "        # print(self.tensor) \n",
    "\n",
    "    #재귀를 이용해 배열안에 포문으로 계속 돌리기\n",
    "    def list_data(self):\n",
    "        \n",
    "        if self.shape_lens == None:\n",
    "            return self.tensor\n",
    "        else:\n",
    "            self.tensor=[self.data[i] for i in range(self.shape[-1])]\n",
    "            return Tensor()\n",
    "    \n",
    "        \n",
    "        \n"
   ]
  },
  {
   "cell_type": "code",
   "execution_count": 3,
   "metadata": {},
   "outputs": [
    {
     "name": "stdout",
     "output_type": "stream",
     "text": [
      "[]\n",
      "<__main__.Tensor object at 0x00000220C0437310>\n",
      "[]\n",
      "<__main__.Tensor object at 0x00000220C0436320>\n"
     ]
    }
   ],
   "source": [
    "data0 = [0, 1, 2, 3, 4, 5, 0.1, 0.2, -3]\n",
    "shape0 = [2, 3, 2]\n",
    "tensor0 = Tensor(data0, shape0)\n",
    "print(tensor0)\n",
    "\n",
    "data1 = [0, 1, 2, 3, 4, 5, 0.1, 0.2, -3]\n",
    "shape1 = [0]\n",
    "tensor1 = Tensor(data1, shape1)\n",
    "print(tensor1)"
   ]
  }
 ],
 "metadata": {
  "interpreter": {
   "hash": "4050364ee39a1dfe4c8bf9f2921379d207edd90088413412cbed5277d73e4c75"
  },
  "kernelspec": {
   "display_name": "Python 3.10.3 64-bit",
   "language": "python",
   "name": "python3"
  },
  "language_info": {
   "codemirror_mode": {
    "name": "ipython",
    "version": 3
   },
   "file_extension": ".py",
   "mimetype": "text/x-python",
   "name": "python",
   "nbconvert_exporter": "python",
   "pygments_lexer": "ipython3",
   "version": "3.10.3"
  },
  "orig_nbformat": 4
 },
 "nbformat": 4,
 "nbformat_minor": 2
}
