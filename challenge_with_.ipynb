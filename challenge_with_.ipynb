{
 "cells": [
  {
   "cell_type": "code",
   "execution_count": 1,
   "metadata": {},
   "outputs": [],
   "source": [
    "# Using Python, construct a class without importing any modules given the following guidelines:\n",
    "# -Given 2 inputs, data and shape, construct a tensor using nested lists.\n",
    "# -A tensor a general term for n-dimension matrix. (order goes scalar, vector, matrix, tensor)\n",
    "# -Data and shape inputs are given as lists of numbers. Data can be any number (int or float), but shape needs to be a list of positive integers.\n",
    "# -Data and shape inputs can be lists of any length.\n",
    "# -The constructed tensor can be saved as an instance variable, printed in standard output, or both.\n",
    "# -If too many data numbers, cut it off after the tensor fills up. If not enough, pad the tensor w/ zeroes.\n",
    "# -Output an empty list if the shape given is also an empty list ([])"
   ]
  },
  {
   "cell_type": "code",
   "execution_count": 2,
   "metadata": {},
   "outputs": [],
   "source": [
    "# 다음 조건에 따라 Python Class 를 구성하시오\n",
    "# list 형태의 데이터 data, shape 2개의 입력이 주어진다\n",
    "# Tensor 는 n 차원 행렬이다\n",
    "# Data와 Shape 입력은 숫자로 이루어진 리스트이다. Data는 정수나 실수 아무 숫자나 들어가  있을 수 있지만 Shape은 양수만 들어갈 수 있다.\n",
    "# Data와 Shape 의 길이는 아무 값이나 가능하다\n",
    "# 구성된 Tensor는 Instance Variable 일 수도 있고, Standard Output 일 수도 있고, 둘 다 일 수도 있다\n",
    "# 만약에 Data가 너무 많으면 Shape 에 맞게 잘라내고, 너무 적으면 0으로 패딩을 넣는다\n",
    "# Shape 이 텅 빈 리스트이면, 텅 빈 리스트를 출력한다."
   ]
  },
  {
   "cell_type": "code",
   "execution_count": 3,
   "metadata": {},
   "outputs": [],
   "source": [
    "# >>> data0 = [0, 1, 2, 3, 4, 5, 0.1, 0.2, -3]\n",
    "# >>> shape0 = [2, 3, 2]\n",
    "# >>> tensor0 = Tensor(data0, shape0)\n",
    "\n",
    "# output:\n",
    "# [[[0, 1], [2, 3], [4, 5]], [[0.1, 0.2], [-3, 0], [0, 0]]]\n",
    "\n",
    "\n",
    "# >>> data1 = [0, 1, 2, 3, 4, 5, 0.1, 0.2, -3, -2, -1, 3, 2, 1]\n",
    "# >>> shape1 = [5, 2]\n",
    "# >>> tensor1 = Tensor(data1, shape1)\n",
    "\n",
    "# output:\n",
    "# [[0, 1], [2, 3], [4, 5], [0.1, 0.2], [-3, -2]]\n",
    "\n",
    "# shape의 뒤에서부터 개수를 선택해"
   ]
  },
  {
   "cell_type": "code",
   "execution_count": 4,
   "metadata": {},
   "outputs": [],
   "source": [
    "class Tensor():\n",
    "    def __init__(self, data, shape):\n",
    "        ## data 를 객체에 저장\n",
    "        self.data = data\n",
    "        ## shape 을 객체에 저장\n",
    "        self.shape = shape\n",
    "        ## 조건 8번에 따라 shape이 비었으면 데이터도 비움\n",
    "        if not self.check_shape():\n",
    "            self.data = []\n",
    "        else:\n",
    "            ## 조건 7번에 따라 shape 보다 데이터가 짧으면 패딩(더미 값 추가), 길면 cut 적용\n",
    "            self.pad_or_cut()\n",
    "            ## list 형태인 data를 텐서 형태(n 차원 리스트)로 변경\n",
    "            self.reshape()\n",
    "        print(self.data)\n",
    "\n",
    "    def check_shape(self):\n",
    "        ## shape 이 비어있으면 False, 이외의 모두 True 를 출력\n",
    "        return True if self.shape else False\n",
    "    \n",
    "    def pad_or_cut(self):\n",
    "        total_data = 1\n",
    "        ## shape list 를 루프를 돌면서 shape 값들을 하나씩 꺼내서 곱함\n",
    "        for s in self.shape:\n",
    "            total_data *= s\n",
    "        ## 곱해진 total_data 가 최종 텐서를 만들기 위해 필요한 data 의 길이가 됨\n",
    "        ## data 의 길이가 필요한 값보다 낮거나 클 경우, 패딩 or 컷 적용\n",
    "        if len(self.data) > total_data:\n",
    "            self.data = self.data[:total_data]\n",
    "        elif len(self.data) < total_data:\n",
    "            self.data += ([0] * (total_data - len(self.data)))\n",
    "            \n",
    "    def reshape(self):\n",
    "        for i in range(len(self.shape)):\n",
    "            ## 형태가 변환된 데이터가 저장 될 리스트\n",
    "            new_data = []\n",
    "            ## shape 을 뒤에서부터하나씩 뽑아서 크기에 맞게 data를 묶음\n",
    "            s = self.shape[len(self.shape)-i-1]\n",
    "            ## 변환이 덜 된 데이터가 남아있으면 변환 수행\n",
    "            while self.data:\n",
    "                ## 묶음만큼 데이터를 변환\n",
    "                d = [self.data.pop(0) for j in range(s)]\n",
    "                ## 변환 된 데이터를 저장\n",
    "                new_data.append(d)\n",
    "            ## 변환이 된 리스트를 변환이\n",
    "            self.data = new_data\n",
    "        ## 최종 변환이 끝난 리스트를 저장\n",
    "        self.data = self.data[0]\n"
   ]
  },
  {
   "cell_type": "code",
   "execution_count": 5,
   "metadata": {},
   "outputs": [
    {
     "name": "stdout",
     "output_type": "stream",
     "text": [
      "[[[0, 1], [2, 3], [4, 5]], [[0.1, 0.2], [-3, 0], [0, 0]]]\n"
     ]
    }
   ],
   "source": [
    "data0 = [0, 1, 2, 3, 4, 5, 0.1, 0.2, -3]\n",
    "shape0 = [2, 3, 2]\n",
    "tensor0 = Tensor(data0, shape0)\n",
    "# output:\n",
    "# [[[0, 1], [2, 3], [4, 5]], [[0.1, 0.2], [-3, 0], [0, 0]]]"
   ]
  },
  {
   "cell_type": "code",
   "execution_count": 6,
   "metadata": {},
   "outputs": [
    {
     "name": "stdout",
     "output_type": "stream",
     "text": [
      "[[0, 1], [2, 3], [4, 5], [0.1, 0.2], [-3, -2]]\n"
     ]
    }
   ],
   "source": [
    "data1 = [0, 1, 2, 3, 4, 5, 0.1, 0.2, -3, -2, -1, 3, 2, 1]\n",
    "shape1 = [5, 2]\n",
    "tensor1 = Tensor(data1, shape1)\n",
    "# output:\n",
    "# [[0, 1], [2, 3], [4, 5], [0.1, 0.2], [-3, -2]]"
   ]
  },
  {
   "cell_type": "code",
   "execution_count": null,
   "metadata": {},
   "outputs": [],
   "source": []
  }
 ],
 "metadata": {
  "interpreter": {
   "hash": "dd7835985dac8cf6e133ad21d8dcc5001b7a6427c8a68746ac4fed2d7c517355"
  },
  "kernelspec": {
   "display_name": "Python 3.8.12 64-bit ('3.8-dev')",
   "language": "python",
   "name": "python3"
  },
  "language_info": {
   "codemirror_mode": {
    "name": "ipython",
    "version": 3
   },
   "file_extension": ".py",
   "mimetype": "text/x-python",
   "name": "python",
   "nbconvert_exporter": "python",
   "pygments_lexer": "ipython3",
   "version": "3.8.12+"
  }
 },
 "nbformat": 4,
 "nbformat_minor": 2
}
